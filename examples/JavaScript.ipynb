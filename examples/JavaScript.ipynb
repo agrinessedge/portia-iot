{
 "cells": [
  {
   "cell_type": "markdown",
   "metadata": {},
   "source": [
    "## JavaScript (Node.js) example\n",
    "In this notebook we are going to present examples of usage of the Portia IoT service with JavaScript."
   ]
  },
  {
   "cell_type": "code",
   "execution_count": null,
   "metadata": {},
   "outputs": [],
   "source": [
    "'use strict'\n",
    "\n",
    "// HTTP protocol library\n",
    "const http = require(\"http\");\n",
    "\n",
    "// Portia service URL\n",
    "const url = \"io.portia.supe.solutions\";\n",
    "\n",
    "// The user token\n",
    "const myToken = \"bdb6e780b43011e7af0b67cba486057b\";\n",
    "\n",
    "// Header object with token authentication\n",
    "const customHeaders = {\n",
    "    \"Authorization\": \"Bearer \" + myToken\n",
    "};\n",
    "\n",
    "// An hour in milliseconds\n",
    "const hour = 1000 * 60 * 60;"
   ]
  },
  {
   "cell_type": "markdown",
   "metadata": {},
   "source": [
    "### Last dimension"
   ]
  },
  {
   "cell_type": "code",
   "execution_count": null,
   "metadata": {},
   "outputs": [],
   "source": [
    "'use strict'\n",
    "\n",
    "// Last dimension service path\n",
    "const lastDimension = \"/api/v1/device/Bk4TsimTbj8vt3hww/port/1/sensor/1/last\";\n",
    "\n",
    "// Makes the request\n",
    "let firstRequest = http.get({\n",
    "    host: url,\n",
    "    path: lastDimension,\n",
    "    headers: customHeaders\n",
    "}, function(response) {\n",
    "    \n",
    "    // Treats response data as utf8\n",
    "    response.setEncoding('utf8');\n",
    "    \n",
    "    // Sets callbacks\n",
    "    let body = \"\";\n",
    "    response.on(\"data\", function(dt) {\n",
    "        body += dt;\n",
    "    });\n",
    "    response.on(\"end\", function() {\n",
    "        // Prints the output\n",
    "        console.log(\"Response: \" + body);\n",
    "    });\n",
    "    \n",
    "}).on(\"error\", function(err) {\n",
    "    // Error handler\n",
    "    console.error('Error with the request: ', err.message);\n",
    "});"
   ]
  },
  {
   "cell_type": "markdown",
   "metadata": {},
   "source": [
    "### Last 30 dimensions"
   ]
  },
  {
   "cell_type": "code",
   "execution_count": null,
   "metadata": {},
   "outputs": [],
   "source": [
    "'use strict'\n",
    "\n",
    "// Last dimension service path\n",
    "const lastDimensionLimit = \"/api/v1/device/Bk4TsimTbj8vt3hww/port/1/sensor/1/last?limit=30\";\n",
    "\n",
    "// Makes the request\n",
    "let secondRequest = http.get({\n",
    "    host: url,\n",
    "    path: lastDimensionLimit,\n",
    "    headers: customHeaders\n",
    "}, function(response) {\n",
    "    \n",
    "    // Treats response data as utf8\n",
    "    response.setEncoding('utf8');\n",
    "    \n",
    "    // Sets callbacks\n",
    "    let body = \"\";\n",
    "    response.on(\"data\", function(dt) {\n",
    "        body += dt;\n",
    "    });\n",
    "    response.on(\"end\", function() {\n",
    "        // Prints the output\n",
    "        console.log(\"Response: \" + body);\n",
    "    });\n",
    "    \n",
    "}).on(\"error\", function(err) {\n",
    "    // Error handler\n",
    "    console.error('Error with the request: ', err.message);\n",
    "});"
   ]
  },
  {
   "cell_type": "markdown",
   "metadata": {},
   "source": [
    "### Dimensions with time intervals"
   ]
  },
  {
   "cell_type": "code",
   "execution_count": null,
   "metadata": {},
   "outputs": [],
   "source": [
    "'use strict'\n",
    "\n",
    "// Setting the intervals for the last hour\n",
    "let toTimestamp = Date.now();\n",
    "let fromTimestamp = toTimestamp - hour;\n",
    "\n",
    "// Dimensions with time intervals service path\n",
    "const timeIntervalDimension = \"/api/v1/device/Bk4TsimTbj8vt3hww/port/1/sensor/1?from_timestamp=\" + fromTimestamp + \"&?to_timestamp=\" + toTimestamp;\n",
    "\n",
    "// Makes the request\n",
    "let timeIntervalReturn = http.get({\n",
    "    host: url,\n",
    "    path: timeIntervalDimension,\n",
    "    headers: customHeaders\n",
    "}, function(response) {\n",
    "    \n",
    "    // Treats response data as utf8\n",
    "    response.setEncoding('utf8');\n",
    "    \n",
    "    // Sets callbacks\n",
    "    let body = \"\";\n",
    "    response.on(\"data\", function(dt) {\n",
    "        body += dt;\n",
    "    });\n",
    "    response.on(\"end\", function() {\n",
    "        // Prints the output\n",
    "        console.log(\"Response: \" + body);    \n",
    "    });\n",
    "    \n",
    "}).on(\"error\", function(err) {\n",
    "    // Error handler\n",
    "    console.error('Error with the request: ', err.message);\n",
    "});"
   ]
  },
  {
   "cell_type": "markdown",
   "metadata": {},
   "source": [
    "### Dimensions for the last 24 hours"
   ]
  },
  {
   "cell_type": "code",
   "execution_count": null,
   "metadata": {},
   "outputs": [],
   "source": [
    "'use strict'\n",
    "\n",
    "// Dimensions for the last 24 hours service path\n",
    "const last24hours = \"/api/v1/device/Bk4TsimTbj8vt3hww/port/1/sensor/1\";\n",
    "\n",
    "// Makes the request\n",
    "let timeIntervalReturn = http.get({\n",
    "    host: url,\n",
    "    path: last24hours,\n",
    "    headers: customHeaders\n",
    "}, function(response) {\n",
    "    \n",
    "    // Treats response data as utf8\n",
    "    response.setEncoding('utf8');\n",
    "    \n",
    "    // Sets callbacks\n",
    "    let body = \"\";\n",
    "    response.on(\"data\", function(dt) {\n",
    "        body += dt;\n",
    "    });\n",
    "    response.on(\"end\", function() {\n",
    "        // Prints the output\n",
    "        console.log(\"Response: \" + body);    \n",
    "    });\n",
    "    \n",
    "}).on(\"error\", function(err) {\n",
    "    // Error handler\n",
    "    console.error('Error with the request: ', err.message);\n",
    "});"
   ]
  },
  {
   "cell_type": "markdown",
   "metadata": {},
   "source": [
    "### Get devices"
   ]
  },
  {
   "cell_type": "code",
   "execution_count": null,
   "metadata": {},
   "outputs": [],
   "source": [
    "'use strict'\n",
    "\n",
    "// Get all of the user devices path\n",
    "const getDevices = \"/api/v1/devices/all\n",
    "\n",
    "// Makes the request\n",
    "let lastDimensionReturn = http.get({\n",
    "    host: url,\n",
    "    path: getDevices,\n",
    "    headers: customHeaders\n",
    "}, function(response) {\n",
    "    \n",
    "    // Treats response data as utf8\n",
    "    response.setEncoding('utf8');\n",
    "    \n",
    "    // Sets callbacks\n",
    "    let body = \"\";\n",
    "    response.on(\"data\", function(dt) {\n",
    "        body += dt;\n",
    "    });\n",
    "    response.on(\"end\", function() {\n",
    "        // Prints the output\n",
    "        console.log(\"Response: \" + body);\n",
    "    });\n",
    "    \n",
    "}).on(\"error\", function(err) {\n",
    "    // Error handler\n",
    "    console.error('Error with the request: ', err.message);\n",
    "});"
   ]
  }
 ],
 "metadata": {
  "kernelspec": {
   "display_name": "Javascript (Node.js)",
   "language": "javascript",
   "name": "ijavascript"
  },
  "language_info": {
   "file_extension": ".js",
   "mimetype": "application/javascript",
   "name": "javascript",
   "version": "4.2.6"
  }
 },
 "nbformat": 4,
 "nbformat_minor": 2
}
